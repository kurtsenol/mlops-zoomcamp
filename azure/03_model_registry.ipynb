{
 "cells": [
  {
   "cell_type": "code",
   "execution_count": 1,
   "id": "bcc7506b",
   "metadata": {},
   "outputs": [],
   "source": [
    "import numpy as np\n",
    "import scipy.sparse\n",
    "import pickle\n"
   ]
  },
  {
   "cell_type": "code",
   "execution_count": 2,
   "id": "72ab6699",
   "metadata": {},
   "outputs": [],
   "source": [
    "from azureml.core import Workspace, Experiment, Run, Model\n",
    "from sklearn.metrics import root_mean_squared_error\n",
    "import os"
   ]
  },
  {
   "cell_type": "code",
   "execution_count": 3,
   "id": "c41163ac",
   "metadata": {},
   "outputs": [
    {
     "name": "stdout",
     "output_type": "stream",
     "text": [
      "✅ Loaded test data.\n"
     ]
    }
   ],
   "source": [
    "\n",
    "# Load test set\n",
    "y_test = np.load(\"artifacts/y_test.npy\")\n",
    "X_test = scipy.sparse.load_npz(\"artifacts/X_test.npz\")\n",
    "\n",
    "print(\"✅ Loaded test data.\")\n"
   ]
  },
  {
   "cell_type": "code",
   "execution_count": 4,
   "id": "dfa05546",
   "metadata": {},
   "outputs": [
    {
     "name": "stdout",
     "output_type": "stream",
     "text": [
      "🏆 Best run ID: dbd54cb3-7897-4def-b6e6-f44c84fc310d, RMSE: 5.913929461984396\n"
     ]
    }
   ],
   "source": [
    "# Connect to workspace and experiment\n",
    "ws = Workspace.from_config()\n",
    "experiment = Experiment(ws, name=\"nyc-taxi-mlops\")\n",
    "\n",
    "# Step 1: Find best run by RMSE\n",
    "runs = list(experiment.get_runs())\n",
    "best_run = None\n",
    "best_rmse = float(\"inf\")\n",
    "\n",
    "for run in runs:\n",
    "    metrics = run.get_metrics()\n",
    "    if \"rmse\" in metrics:\n",
    "        rmse = metrics[\"rmse\"]\n",
    "        if rmse < best_rmse:\n",
    "            best_rmse = rmse\n",
    "            best_run = run\n",
    "\n",
    "print(f\"🏆 Best run ID: {best_run.id}, RMSE: {best_rmse}\")\n"
   ]
  },
  {
   "cell_type": "code",
   "execution_count": 5,
   "id": "42ce6ef2",
   "metadata": {},
   "outputs": [],
   "source": [
    "# Step 2: Download model and preprocessor from best run\n",
    "model_files = best_run.get_file_names()\n",
    "model_file = [f for f in model_files if f.startswith(\"models/\") and f.endswith(\".pkl\")][0]\n",
    "dv_file = [f for f in model_files if f.startswith(\"preprocessor/\") and f.endswith(\".b\")][0]\n",
    "\n",
    "os.makedirs(\"downloaded\", exist_ok=True)\n",
    "best_run.download_file(name=model_file, output_file_path=\"downloaded/model.pkl\")\n",
    "best_run.download_file(name=dv_file, output_file_path=\"downloaded/dv.b\")\n"
   ]
  },
  {
   "cell_type": "code",
   "execution_count": 6,
   "id": "de5fa826",
   "metadata": {},
   "outputs": [],
   "source": [
    "\n",
    "# Step 3: Load them\n",
    "with open(\"downloaded/model.pkl\", \"rb\") as f_model:\n",
    "    best_model = pickle.load(f_model)\n",
    "\n",
    "with open(\"downloaded/dv.b\", \"rb\") as f_dv:\n",
    "    dv = pickle.load(f_dv)\n"
   ]
  },
  {
   "cell_type": "code",
   "execution_count": 7,
   "id": "2532ab66",
   "metadata": {},
   "outputs": [
    {
     "name": "stdout",
     "output_type": "stream",
     "text": [
      "🧪 Test RMSE: 5.940\n"
     ]
    }
   ],
   "source": [
    "\n",
    "# Step 4: Evaluate on test set\n",
    "y_pred = best_model.predict(X_test)\n",
    "test_rmse = root_mean_squared_error(y_test, y_pred)\n",
    "print(f\"🧪 Test RMSE: {test_rmse:.3f}\")\n"
   ]
  },
  {
   "cell_type": "code",
   "execution_count": 8,
   "id": "0128cc64",
   "metadata": {},
   "outputs": [
    {
     "name": "stdout",
     "output_type": "stream",
     "text": [
      "Registering model nyc-taxi-best-model\n",
      "Registering model nyc-taxi-preprocessor\n",
      "✅ Registered model: nyc-taxi-best-model (version: 1)\n"
     ]
    }
   ],
   "source": [
    "# Step 5: Register model + preprocessor\n",
    "model = Model.register(\n",
    "    workspace=ws,\n",
    "    model_path=\"downloaded/model.pkl\",\n",
    "    model_name=\"nyc-taxi-best-model\",\n",
    "    tags={\"source\": \"mlops-demo\", \"validated_rmse\": round(test_rmse, 3)}\n",
    ")\n",
    "\n",
    "# Register dv separately (optional)\n",
    "Model.register(\n",
    "    workspace=ws,\n",
    "    model_path=\"downloaded/dv.b\",\n",
    "    model_name=\"nyc-taxi-preprocessor\",\n",
    "    tags={\"related_model\": model.name}\n",
    ")\n",
    "\n",
    "print(f\"✅ Registered model: {model.name} (version: {model.version})\")\n"
   ]
  },
  {
   "cell_type": "code",
   "execution_count": null,
   "id": "4b2de4fe",
   "metadata": {},
   "outputs": [],
   "source": []
  }
 ],
 "metadata": {
  "kernelspec": {
   "display_name": "mlops_course",
   "language": "python",
   "name": "python3"
  },
  "language_info": {
   "codemirror_mode": {
    "name": "ipython",
    "version": 3
   },
   "file_extension": ".py",
   "mimetype": "text/x-python",
   "name": "python",
   "nbconvert_exporter": "python",
   "pygments_lexer": "ipython3",
   "version": "3.9.21"
  }
 },
 "nbformat": 4,
 "nbformat_minor": 5
}
