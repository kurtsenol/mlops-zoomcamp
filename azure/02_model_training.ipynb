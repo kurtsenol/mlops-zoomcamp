{
 "cells": [
  {
   "cell_type": "code",
   "execution_count": 1,
   "id": "e05fe36b",
   "metadata": {},
   "outputs": [],
   "source": [
    "import pickle\n",
    "import numpy as np\n",
    "import scipy.sparse"
   ]
  },
  {
   "cell_type": "code",
   "execution_count": 6,
   "id": "83214ed2",
   "metadata": {},
   "outputs": [],
   "source": [
    "from sklearn.ensemble import RandomForestRegressor, GradientBoostingRegressor\n",
    "from sklearn.linear_model import LinearRegression\n",
    "from sklearn.metrics import root_mean_squared_error\n",
    "from azureml.core import Workspace, Experiment"
   ]
  },
  {
   "cell_type": "code",
   "execution_count": 2,
   "id": "9cff915d",
   "metadata": {},
   "outputs": [],
   "source": [
    "with open(\"artifacts/dv.b\", \"rb\") as f_in:\n",
    "    dv = pickle.load(f_in)\n",
    "\n",
    "y_train = np.load(\"artifacts/y_train.npy\")\n",
    "y_val = np.load(\"artifacts/y_val.npy\")\n",
    "X_train = scipy.sparse.load_npz(\"artifacts/X_train.npz\")\n",
    "X_val = scipy.sparse.load_npz(\"artifacts/X_val.npz\")\n"
   ]
  },
  {
   "cell_type": "code",
   "execution_count": 7,
   "id": "03a860e9",
   "metadata": {},
   "outputs": [
    {
     "name": "stdout",
     "output_type": "stream",
     "text": [
      "🔄 Training RandomForestRegressor\n",
      "✅ RandomForestRegressor RMSE: 5.930336383124501\n",
      "📦 RandomForestRegressor model + preprocessor saved and uploaded.\n",
      "\n",
      "🔄 Training GradientBoostingRegressor\n",
      "✅ GradientBoostingRegressor RMSE: 5.913929461984396\n",
      "📦 GradientBoostingRegressor model + preprocessor saved and uploaded.\n",
      "\n",
      "🔄 Training LinearRegression\n",
      "✅ LinearRegression RMSE: 7.258011597927111\n",
      "📦 LinearRegression model + preprocessor saved and uploaded.\n",
      "\n"
     ]
    }
   ],
   "source": [
    "# Connect to Azure ML\n",
    "ws = Workspace.from_config()\n",
    "experiment = Experiment(ws, \"nyc-taxi-mlops\")\n",
    "\n",
    "# Models to train\n",
    "model_classes = [\n",
    "    RandomForestRegressor,\n",
    "    GradientBoostingRegressor,\n",
    "    LinearRegression\n",
    "]\n",
    "\n",
    "for model_class in model_classes:\n",
    "    model_name = model_class.__name__\n",
    "\n",
    "    with experiment.start_logging(snapshot_directory=None) as run:\n",
    "        print(f\"🔄 Training {model_name}\")\n",
    "\n",
    "        # Log model name\n",
    "        run.log(\"model_name\", model_name)\n",
    "\n",
    "        # Train\n",
    "        model = model_class()\n",
    "        model.fit(X_train, y_train)\n",
    "\n",
    "        # Predict + evaluate\n",
    "        y_pred = model.predict(X_val)\n",
    "        rmse = root_mean_squared_error(y_val, y_pred)\n",
    "        run.log(\"rmse\", rmse)\n",
    "        print(f\"✅ {model_name} RMSE: {rmse}\")\n",
    "\n",
    "        # Save model\n",
    "        model_path = f\"outputs/{model_name}_model.pkl\"\n",
    "        with open(model_path, \"wb\") as f_out:\n",
    "            pickle.dump(model, f_out)\n",
    "\n",
    "        run.upload_file(f\"models/{model_name}_model.pkl\", model_path)\n",
    "\n",
    "        # Save and upload preprocessor\n",
    "        dv_path = f\"outputs/{model_name}_dv.b\"\n",
    "        with open(dv_path, \"wb\") as f_out:\n",
    "            pickle.dump(dv, f_out)\n",
    "\n",
    "        run.upload_file(f\"preprocessor/{model_name}_dv.b\", dv_path)\n",
    "\n",
    "        print(f\"📦 {model_name} model + preprocessor saved and uploaded.\\n\")\n"
   ]
  }
 ],
 "metadata": {
  "kernelspec": {
   "display_name": "mlops_course",
   "language": "python",
   "name": "python3"
  },
  "language_info": {
   "codemirror_mode": {
    "name": "ipython",
    "version": 3
   },
   "file_extension": ".py",
   "mimetype": "text/x-python",
   "name": "python",
   "nbconvert_exporter": "python",
   "pygments_lexer": "ipython3",
   "version": "3.9.21"
  }
 },
 "nbformat": 4,
 "nbformat_minor": 5
}
